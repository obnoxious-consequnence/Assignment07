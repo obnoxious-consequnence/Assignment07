{
 "cells": [
  {
   "cell_type": "code",
   "execution_count": 6,
   "metadata": {},
   "outputs": [],
   "source": [
    "from selenium import webdriver\n",
    "from selenium.webdriver.common.keys import Keys\n",
    "driver = webdriver.Chrome('./chromedriver.exe')\n",
    "base_url = 'https://apex.tracker.gg/apex/leaderboards/origin/Kills?page=1'\n",
    "driver.get(base_url)\n",
    "b"
   ]
  },
  {
   "cell_type": "code",
   "execution_count": 7,
   "metadata": {
    "scrolled": false
   },
   "outputs": [],
   "source": [
    "# IMPORTANT: wait a few secounds for the site to load, before running this cell\n",
    "#Finds and click on the platform dropdown menu\n",
    "filters = driver.find_elements_by_class_name('trn-select')[0].click()\n",
    "\n",
    "#Finds and click on the 'Origin' platform in the dropdown menu\n",
    "platform_options = driver.find_elements_by_class_name('trn-select__item')[-1].click()"
   ]
  },
  {
   "cell_type": "code",
   "execution_count": 8,
   "metadata": {},
   "outputs": [
    {
     "name": "stdout",
     "output_type": "stream",
     "text": [
      "Rank: 1 - Name: TSM_DIEGOSAURS - Kills: 19,838 - Matches: 857\n",
      "Rank: 2 - Name: DespeTTV - Kills: 17,526 - Matches: 713\n",
      "Rank: 3 - Name: RhinoTTV - Kills: 17,499 - Matches: 495\n",
      "Rank: 4 - Name: F44LA - Kills: 16,625 - Matches: 2384\n",
      "Rank: 5 - Name: 100T_lifted - Kills: 16,386 - Matches: \n",
      "Rank: 6 - Name: Tempo_Solve - Kills: 16,105 - Matches: 20\n",
      "Rank: 7 - Name: NRG_dizzy - Kills: 15,949 - Matches: \n",
      "Rank: 8 - Name: TTVShivFPS - Kills: 14,497 - Matches: \n",
      "Rank: 9 - Name: DouyuTV1469290 - Kills: 14,444 - Matches: 1760\n",
      "Rank: 10 - Name: llluosiionP - Kills: 14,138 - Matches: 1538\n"
     ]
    }
   ],
   "source": [
    "players = driver.find_elements_by_css_selector('.trn-table__row.trn-lb-entry ')\n",
    "\n",
    "for player in players[:10]:\n",
    "    rank = player.find_elements_by_tag_name('td')[0].text\n",
    "    name = player.find_elements_by_tag_name('td')[1].text\n",
    "    stats = player.find_elements_by_tag_name('td')[2].text\n",
    "    matches = player.find_elements_by_tag_name('td')[3].text\n",
    "        \n",
    "    msg = 'Rank: {} - Name: {} - Kills: {} - Matches: {}'\n",
    "    print(msg.format(rank, name, stats, matches))\n",
    "    "
   ]
  }
 ],
 "metadata": {
  "kernelspec": {
   "display_name": "Python 3",
   "language": "python",
   "name": "python3"
  },
  "language_info": {
   "codemirror_mode": {
    "name": "ipython",
    "version": 3
   },
   "file_extension": ".py",
   "mimetype": "text/x-python",
   "name": "python",
   "nbconvert_exporter": "python",
   "pygments_lexer": "ipython3",
   "version": "3.7.1"
  }
 },
 "nbformat": 4,
 "nbformat_minor": 2
}
