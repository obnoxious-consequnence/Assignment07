{
 "cells": [
  {
   "cell_type": "code",
   "execution_count": null,
   "metadata": {},
   "outputs": [],
   "source": [
    "from selenium import webdriver\n",
    "browser = webdriver.chrome\n",
    "base_url = 'https://old.reddit.com/top/?sort=top&t=all'\n",
    "\n",
    "class Post:\n",
    "    def __init__(self, _id, title, score, subreddit):\n",
    "        self.id = _id\n",
    "        self.title = title\n",
    "        self.score = int(score)\n",
    "        self.subreddit = subreddit\n",
    "\n",
    "def top_n_reddit_post(browser, n=100)\n",
    "    browser.get(base_url)\n",
    "    results = []\n",
    "    \n",
    "    def \n"
   ]
  }
 ],
 "metadata": {
  "kernelspec": {
   "display_name": "Python 3",
   "language": "python",
   "name": "python3"
  },
  "language_info": {
   "codemirror_mode": {
    "name": "ipython",
    "version": 3
   },
   "file_extension": ".py",
   "mimetype": "text/x-python",
   "name": "python",
   "nbconvert_exporter": "python",
   "pygments_lexer": "ipython3",
   "version": "3.7.1"
  }
 },
 "nbformat": 4,
 "nbformat_minor": 2
}
