{
 "cells": [
  {
   "cell_type": "code",
   "execution_count": 1,
   "metadata": {},
   "outputs": [
    {
     "ename": "IndexError",
     "evalue": "list index out of range",
     "output_type": "error",
     "traceback": [
      "\u001b[1;31m---------------------------------------------------------------------------\u001b[0m",
      "\u001b[1;31mIndexError\u001b[0m                                Traceback (most recent call last)",
      "\u001b[1;32m<ipython-input-1-0955e793a3a8>\u001b[0m in \u001b[0;36m<module>\u001b[1;34m\u001b[0m\n\u001b[0;32m     10\u001b[0m \u001b[1;31m# IMPORTANT: wait a few secounds for the site to load, before running this cell\u001b[0m\u001b[1;33m\u001b[0m\u001b[1;33m\u001b[0m\u001b[1;33m\u001b[0m\u001b[0m\n\u001b[0;32m     11\u001b[0m \u001b[1;31m#Finds and click on the platform dropdown menu\u001b[0m\u001b[1;33m\u001b[0m\u001b[1;33m\u001b[0m\u001b[1;33m\u001b[0m\u001b[0m\n\u001b[1;32m---> 12\u001b[1;33m \u001b[0mfilters\u001b[0m \u001b[1;33m=\u001b[0m \u001b[0mdriver\u001b[0m\u001b[1;33m.\u001b[0m\u001b[0mfind_elements_by_class_name\u001b[0m\u001b[1;33m(\u001b[0m\u001b[1;34m'trn-select'\u001b[0m\u001b[1;33m)\u001b[0m\u001b[1;33m[\u001b[0m\u001b[1;36m0\u001b[0m\u001b[1;33m]\u001b[0m\u001b[1;33m.\u001b[0m\u001b[0mclick\u001b[0m\u001b[1;33m(\u001b[0m\u001b[1;33m)\u001b[0m\u001b[1;33m\u001b[0m\u001b[1;33m\u001b[0m\u001b[0m\n\u001b[0m\u001b[0;32m     13\u001b[0m \u001b[1;33m\u001b[0m\u001b[0m\n\u001b[0;32m     14\u001b[0m \u001b[1;31m#Finds and click on the 'Origin' platform in the dropdown menu\u001b[0m\u001b[1;33m\u001b[0m\u001b[1;33m\u001b[0m\u001b[1;33m\u001b[0m\u001b[0m\n",
      "\u001b[1;31mIndexError\u001b[0m: list index out of range"
     ]
    }
   ],
   "source": [
    "from selenium import webdriver\n",
    "from selenium.webdriver.common.keys import Keys\n",
    "driver = webdriver.Chrome('./chromedriver.exe')\n",
    "base_url = 'https://apex.tracker.gg/apex/leaderboards/origin/Kills?page=1'\n",
    "driver.get(base_url)\n",
    "driver.implicitly_wait(3)\n",
    "\n",
    "\n",
    "# -------------------------------------------------------------------------------\n",
    "\n",
    "# IMPORTANT: wait a few secounds for the site to load, before running this cell\n",
    "#Finds and click on the platform dropdown menu\n",
    "filters = driver.find_elements_by_class_name('trn-select')[0].click()\n",
    "\n",
    "#Finds and click on the 'Origin' platform in the dropdown menu\n",
    "platform_options = driver.find_elements_by_class_name('trn-select__item')[-1].click()\n",
    "\n",
    "# -------------------------------------------------------------------------------\n",
    "\n",
    "# Finding the table row, where players are stored\n",
    "players = driver.find_elements_by_css_selector('.trn-table__row.trn-lb-entry ')\n",
    "\n",
    "# Looping through n players (10) - and find their ranks, names, stats, and amount of matches. \n",
    "# This is done with the 'td' tag and the .text... Without the .text we would just get an object returned.\n",
    "for player in players[:10]:\n",
    "    rank = player.find_elements_by_tag_name('td')[0].text\n",
    "    name = player.find_elements_by_tag_name('td')[1].text\n",
    "    stats = player.find_elements_by_tag_name('td')[2].text\n",
    "    matches = player.find_elements_by_tag_name('td')[3].text\n",
    "        \n",
    "    msg = 'Rank: {} - Name: {} - Kills: {} - Matches: {}'\n",
    "    print(msg.format(rank, name, stats, matches))\n",
    "     "
   ]
  },
  {
   "cell_type": "code",
   "execution_count": null,
   "metadata": {},
   "outputs": [],
   "source": []
  }
 ],
 "metadata": {
  "kernelspec": {
   "display_name": "Python 3",
   "language": "python",
   "name": "python3"
  },
  "language_info": {
   "codemirror_mode": {
    "name": "ipython",
    "version": 3
   },
   "file_extension": ".py",
   "mimetype": "text/x-python",
   "name": "python",
   "nbconvert_exporter": "python",
   "pygments_lexer": "ipython3",
   "version": "3.7.1"
  }
 },
 "nbformat": 4,
 "nbformat_minor": 2
}
