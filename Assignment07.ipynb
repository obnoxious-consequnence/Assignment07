{
 "cells": [
  {
   "cell_type": "code",
   "execution_count": 36,
   "metadata": {},
   "outputs": [
    {
     "name": "stdout",
     "output_type": "stream",
     "text": [
      "Rank: 1 - Name: TSM_DIEGOSAURS - Kills: 19,838 - Matches: 857\n",
      "Rank: 2 - Name: DespeTTV - Kills: 17,559 - Matches: 713\n",
      "Rank: 3 - Name: RhinoTTV - Kills: 17,499 - Matches: 495\n",
      "Rank: 4 - Name: F44LA - Kills: 16,645 - Matches: 2392\n",
      "Rank: 5 - Name: 100T_lifted - Kills: 16,416 - Matches: \n",
      "Rank: 6 - Name: Tempo_Solve - Kills: 16,128 - Matches: 20\n",
      "Rank: 7 - Name: NRG_dizzy - Kills: 15,985 - Matches: \n",
      "Rank: 8 - Name: TTVShivFPS - Kills: 14,592 - Matches: \n",
      "Rank: 9 - Name: DouyuTV1469290 - Kills: 14,556 - Matches: 1760\n",
      "Rank: 10 - Name: llluosiionP - Kills: 14,211 - Matches: 1538\n"
     ]
    }
   ],
   "source": [
    "from selenium import webdriver\n",
    "from selenium.webdriver.common.keys import Keys\n",
    "driver = webdriver.Chrome('./chromedriver.exe')\n",
    "base_url = 'https://apex.tracker.gg/apex/leaderboards/origin/Kills?page=1'\n",
    "driver.get(base_url)\n",
    "driver.implicitly_wait(3)\n",
    "\n",
    "\n",
    "# -------------------------------------------------------------------------------\n",
    "\n",
    "# IMPORTANT: wait a few secounds for the site to load, before running this cell\n",
    "#Finds and click on the platform dropdown menu\n",
    "driver.find_elements_by_class_name('trn-select')[0].click()\n",
    "\n",
    "#Finds and click on the 'Origin' platform in the dropdown menu\n",
    "driver.find_elements_by_class_name('trn-select__item')[-1].click()\n",
    "\n",
    "# -------------------------------------------------------------------------------\n",
    "\n",
    "# Finding the table row, where players are stored\n",
    "players = driver.find_elements_by_css_selector('.trn-table__row.trn-lb-entry ')\n",
    "\n",
    "# Looping through n players (10) - and find their ranks, names, stats, and amount of matches. \n",
    "# This is done with the 'td' tag and the .text... Without the .text we would just get an object returned.\n",
    "for player in players[:10]:\n",
    "    rank = player.find_elements_by_tag_name('td')[0].text\n",
    "    name = player.find_elements_by_tag_name('td')[1].text\n",
    "    stats = player.find_elements_by_tag_name('td')[2].text\n",
    "    matches = player.find_elements_by_tag_name('td')[3].text\n",
    "        \n",
    "    msg = 'Rank: {} - Name: {} - Kills: {} - Matches: {}'\n",
    "    print(msg.format(rank, name, stats, matches))\n",
    "     "
   ]
  },
  {
   "cell_type": "code",
   "execution_count": 25,
   "metadata": {},
   "outputs": [
    {
     "name": "stdout",
     "output_type": "stream",
     "text": [
      "Rank: 1 - Name: bilibili-49343 - Kills: 7,300 - Matches: \n",
      "Rank: 2 - Name: PENTA-viktoras - Kills: 6,211 - Matches: \n",
      "Rank: 3 - Name: Douyu_Kael - Kills: 4,878 - Matches: 412\n",
      "Rank: 4 - Name: X0NIQ - Kills: 4,463 - Matches: \n",
      "Rank: 5 - Name: Blank_Nitrox - Kills: 4,101 - Matches: \n"
     ]
    }
   ],
   "source": [
    "driver.find_elements_by_class_name('trn-select')[2].click()\n",
    "\n",
    "# 14 is Pistol Kills\n",
    "driver.find_elements_by_class_name('trn-select__item')[14].click()\n",
    "\n",
    "players = driver.find_elements_by_css_selector('.trn-table__row.trn-lb-entry ')\n",
    "for player in players[:5]:\n",
    "    rank = player.find_elements_by_tag_name('td')[0].text\n",
    "    name = player.find_elements_by_tag_name('td')[1].text\n",
    "    stats = player.find_elements_by_tag_name('td')[2].text\n",
    "    matches = player.find_elements_by_tag_name('td')[3].text\n",
    "        \n",
    "    msg = 'Rank: {} - Name: {} - Kills: {} - Matches: {}'\n",
    "    print(msg.format(rank, name, stats, matches))"
   ]
  },
  {
   "cell_type": "code",
   "execution_count": 37,
   "metadata": {},
   "outputs": [],
   "source": [
    "# 14 - Pistol, 15 - Shotgun, 16 - SMG\n",
    "# 17 - AR, 18 - LMG, 19 - Sniper\n",
    "\n",
    "def weapon_specific_top_n_player(n, weapon_no):\n",
    "    driver.find_elements_by_class_name('trn-select')[2].click()\n",
    "    driver.find_elements_by_class_name('trn-select__item')[weapon_no].click()\n",
    "    collected_stats = []\n",
    "    \n",
    "    players = driver.find_elements_by_css_selector('.trn-table__row.trn-lb-entry ')\n",
    "    for player in players[:n]:\n",
    "        rank = player.find_elements_by_tag_name('td')[0].text\n",
    "        name = player.find_elements_by_tag_name('td')[1].text\n",
    "        stats = player.find_elements_by_tag_name('td')[2].text\n",
    "        matches = player.find_elements_by_tag_name('td')[3].text\n",
    "\n",
    "        msg = 'Rank: {} - Name: {} - Kills: {} - Matches: {}'\n",
    "        collected_stats.append(msg.format(rank, name, stats, matches))\n",
    "    return collected_stats"
   ]
  },
  {
   "cell_type": "code",
   "execution_count": 47,
   "metadata": {},
   "outputs": [
    {
     "data": {
      "text/plain": [
       "['Rank: 1 - Name: ByP_astrocycl - Kills: 3,371 - Matches: 1024',\n",
       " 'Rank: 2 - Name: QIETV_5507193 - Kills: 2,663 - Matches: 1372',\n",
       " 'Rank: 3 - Name: vFurkiy - Kills: 2,423 - Matches: 1954',\n",
       " 'Rank: 4 - Name: G2G_lerabinou - Kills: 1,958 - Matches: ',\n",
       " 'Rank: 5 - Name: iFTYBAIBAN - Kills: 1,714 - Matches: ']"
      ]
     },
     "execution_count": 47,
     "metadata": {},
     "output_type": "execute_result"
    }
   ],
   "source": [
    "weapon_specific_top_n_player(5, 16)"
   ]
  },
  {
   "cell_type": "code",
   "execution_count": 41,
   "metadata": {},
   "outputs": [
    {
     "data": {
      "text/plain": [
       "'Shotgun Kills'"
      ]
     },
     "execution_count": 41,
     "metadata": {},
     "output_type": "execute_result"
    }
   ],
   "source": [
    "driver.find_elements_by_class_name('trn-select__item')[15].text"
   ]
  }
 ],
 "metadata": {
  "kernelspec": {
   "display_name": "Python 3",
   "language": "python",
   "name": "python3"
  },
  "language_info": {
   "codemirror_mode": {
    "name": "ipython",
    "version": 3
   },
   "file_extension": ".py",
   "mimetype": "text/x-python",
   "name": "python",
   "nbconvert_exporter": "python",
   "pygments_lexer": "ipython3",
   "version": "3.7.1"
  }
 },
 "nbformat": 4,
 "nbformat_minor": 2
}
