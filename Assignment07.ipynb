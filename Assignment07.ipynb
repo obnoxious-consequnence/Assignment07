{
 "cells": [
  {
   "cell_type": "code",
   "execution_count": 15,
   "metadata": {},
   "outputs": [],
   "source": [
    "from selenium import webdriver\n",
    "from selenium.webdriver.common.keys import Keys\n",
    "driver = webdriver.Chrome('./chromedriver.exe')\n",
    "base_url = 'https://apex.tracker.gg/apex/leaderboards/origin/Kills?page'\n",
    "driver.get(base_url)\n",
    "driver.implicitly_wait(3)"
   ]
  },
  {
   "cell_type": "code",
   "execution_count": 5,
   "metadata": {},
   "outputs": [],
   "source": [
    "def top_n_player_stats(player_no):    \n",
    "    # Finds and click on the platform dropdown menu\n",
    "    driver.find_elements_by_class_name('trn-select')[0].click()\n",
    "    # Finds and click on the 'Origin' platform in the dropdown menu\n",
    "    driver.find_elements_by_class_name('trn-select__item')[-1].click()\n",
    "    \n",
    "    # Finds the title of the table and insert it into a list\n",
    "    title = driver.find_elements_by_css_selector('.trn-title.trn-title--large')[0].text\n",
    "    player_stats = [title]\n",
    "    \n",
    "    # Finding the table row, where players are stored\n",
    "    players = driver.find_elements_by_css_selector('.trn-table__row.trn-lb-entry ')\n",
    "    \n",
    "    # Looping through n players - and finds their ranks, names, stats, and amount of matches. \n",
    "    # This is done with the 'td' tag and the .text... Without the .text we would just get an object returned.\n",
    "    for player in players[:player_no]:\n",
    "        rank = player.find_elements_by_tag_name('td')[0].text\n",
    "        name = player.find_elements_by_tag_name('td')[1].text\n",
    "        stats = player.find_elements_by_tag_name('td')[2].text\n",
    "        matches = player.find_elements_by_tag_name('td')[3].text\n",
    "\n",
    "        msg = 'Rank: {} - Name: {} - Kills: {} - Matches: {}'\n",
    "        player_stats.append(msg.format(rank, name, stats, matches))\n",
    "    return player_stats"
   ]
  },
  {
   "cell_type": "code",
   "execution_count": 6,
   "metadata": {},
   "outputs": [],
   "source": [
    "# 14 - Pistol, 15 - Shotgun, 16 - SMG\n",
    "# 17 - AR, 18 - LMG, 19 - Sniper\n",
    "\n",
    "def weapon_specific_top_n_player(player_no, weapon_no):    \n",
    "    # Selects Origin as the Platform\n",
    "    driver.find_elements_by_class_name('trn-select')[0].click()\n",
    "    driver.find_elements_by_class_name('trn-select__item')[-1].click()\n",
    "    \n",
    "    driver.find_elements_by_class_name('trn-select')[2].click()\n",
    "    driver.find_elements_by_class_name('trn-select__item')[weapon_no].click()\n",
    "    title = driver.find_elements_by_css_selector('.trn-title.trn-title--large')[0].text\n",
    "    weapon_stats = [title]\n",
    "    \n",
    "    players = driver.find_elements_by_css_selector('.trn-table__row.trn-lb-entry ')\n",
    "    for player in players[:player_no]:\n",
    "        rank = player.find_elements_by_tag_name('td')[0].text\n",
    "        name = player.find_elements_by_tag_name('td')[1].text\n",
    "        stats = player.find_elements_by_tag_name('td')[2].text\n",
    "        matches = player.find_elements_by_tag_name('td')[3].text\n",
    "\n",
    "        msg = 'Rank: {} - Name: {} - Kills: {} - Matches: {}'\n",
    "        weapon_stats.append(msg.format(rank, name, stats, matches))\n",
    "    return weapon_stats"
   ]
  },
  {
   "cell_type": "code",
   "execution_count": 7,
   "metadata": {},
   "outputs": [],
   "source": [
    "# Warning this will not work... The site will throw you out!\n",
    "def all_weapon_specific_top_n_players(player_no):\n",
    "    for weapon_no in range(14, 20):\n",
    "        weapon_specific_top_n_player(player_no, weapon_no)\n"
   ]
  },
  {
   "cell_type": "code",
   "execution_count": 16,
   "metadata": {},
   "outputs": [
    {
     "data": {
      "text/plain": [
       "['']"
      ]
     },
     "execution_count": 16,
     "metadata": {},
     "output_type": "execute_result"
    }
   ],
   "source": [
    "weapon_specific_top_n_player(5, 14)"
   ]
  },
  {
   "cell_type": "code",
   "execution_count": 73,
   "metadata": {},
   "outputs": [
    {
     "data": {
      "text/plain": [
       "['APEX KILLS LEADERBOARD',\n",
       " 'Rank: 1 - Name: TSM_DIEGOSAURS - Kills: 19,838 - Matches: 857',\n",
       " 'Rank: 2 - Name: DespeTTV - Kills: 17,602 - Matches: 713',\n",
       " 'Rank: 3 - Name: RhinoTTV - Kills: 17,499 - Matches: 495',\n",
       " 'Rank: 4 - Name: F44LA - Kills: 16,664 - Matches: 2395',\n",
       " 'Rank: 5 - Name: 100T_lifted - Kills: 16,498 - Matches: ',\n",
       " 'Rank: 6 - Name: Tempo_Solve - Kills: 16,128 - Matches: 20',\n",
       " 'Rank: 7 - Name: NRG_dizzy - Kills: 15,985 - Matches: ',\n",
       " 'Rank: 8 - Name: TTVShivFPS - Kills: 14,634 - Matches: ',\n",
       " 'Rank: 9 - Name: DouyuTV1469290 - Kills: 14,558 - Matches: 1760',\n",
       " 'Rank: 10 - Name: llluosiionP - Kills: 14,277 - Matches: 1538']"
      ]
     },
     "execution_count": 73,
     "metadata": {},
     "output_type": "execute_result"
    }
   ],
   "source": [
    "top_n_player_stats(10)"
   ]
  }
 ],
 "metadata": {
  "kernelspec": {
   "display_name": "Python 3",
   "language": "python",
   "name": "python3"
  },
  "language_info": {
   "codemirror_mode": {
    "name": "ipython",
    "version": 3
   },
   "file_extension": ".py",
   "mimetype": "text/x-python",
   "name": "python",
   "nbconvert_exporter": "python",
   "pygments_lexer": "ipython3",
   "version": "3.7.1"
  }
 },
 "nbformat": 4,
 "nbformat_minor": 2
}
